{
 "cells": [
  {
   "cell_type": "markdown",
   "metadata": {},
   "source": [
    "1.What are the two values of the Boolean data type? How do you write them?\n",
    "Answer:\n",
    "Boolean data type if True (1) and False (0). The first letter or True and False should be upper case.\n"
   ]
  },
  {
   "cell_type": "markdown",
   "metadata": {},
   "source": [
    "2. What are the three different types of Boolean operators?\n",
    "Answer:\n",
    "There are three different boolean operators. Namely:  And, Or and Not.\n"
   ]
  },
  {
   "cell_type": "markdown",
   "metadata": {},
   "source": [
    "3. Make a list of each Boolean operator's truth tables (i.e. every possible combination of Boolean values for the operator and what it evaluate.\n",
    "Answer:\n",
    "True or True = True\n",
    "True or False = True\n",
    "False or True = True\n",
    "False or False = False\n",
    "True and True = True\n",
    "True and False = False\n",
    "False and True = False\n",
    "False and False = False\n",
    "not True= False\n",
    "not False = True\n"
   ]
  },
  {
   "cell_type": "markdown",
   "metadata": {},
   "source": [
    "4. What are the values of the following expressions?\n",
    "(5 > 4) and (3 == 5) :  False\n",
    "not (5 > 4) :  False\n",
    "(5 > 4) or (3 == 5)  : True\n",
    "not ((5 > 4) or (3 == 5)) :  False\n",
    "(True and True) and (True == False) : False\n",
    "(not False) or (not True) : True\n"
   ]
  },
  {
   "cell_type": "markdown",
   "metadata": {},
   "source": [
    "5. What are the six comparison operators?\n",
    "Comparison operators:\n",
    "== : Equal to\n",
    "!= : Not equal to\n",
    ">: Great than\n",
    "<: Less than\n",
    ">= : Greater than and equal to\n",
    "=<  : Less than and equal to \n"
   ]
  },
  {
   "cell_type": "markdown",
   "metadata": {},
   "source": [
    "6. How do you tell the difference between the equal to and assignment operators?Describe a condition and when you would use one.\n",
    "Answer:\n",
    "Equal to (==) is the comparison operator whereas assignment operator(=) is to assign values to the Variable. \n",
    "For e.g. If we have to initiate the list or assign the value to a variable, assignment operator (=) is used. E.g. below"
   ]
  },
  {
   "cell_type": "code",
   "execution_count": 15,
   "metadata": {},
   "outputs": [
    {
     "name": "stdout",
     "output_type": "stream",
     "text": [
      "10\n"
     ]
    }
   ],
   "source": [
    "# assignment operator\n",
    "a = 10\n",
    "print(a)"
   ]
  },
  {
   "cell_type": "code",
   "execution_count": 18,
   "metadata": {},
   "outputs": [
    {
     "name": "stdout",
     "output_type": "stream",
     "text": [
      "they are not equal\n"
     ]
    }
   ],
   "source": [
    "# Equal to or comparison operator\n",
    "a = 10\n",
    "b = 15\n",
    "if a == b:\n",
    "    print ('they are equal')\n",
    "else:\n",
    "    print('they are not equal')\n",
    "    "
   ]
  },
  {
   "cell_type": "markdown",
   "metadata": {},
   "source": [
    "7. Identify the three blocks in this code:\n",
    "spam = 0\n",
    "if spam == 10:\n",
    "print('eggs')\n",
    "if spam > 5:\n",
    "print('bacon')\n",
    "else:\n",
    "print('ham')\n",
    "print('spam')\n",
    "print('spam')\n"
   ]
  },
  {
   "cell_type": "code",
   "execution_count": 20,
   "metadata": {},
   "outputs": [
    {
     "name": "stdout",
     "output_type": "stream",
     "text": [
      "spam\n"
     ]
    }
   ],
   "source": [
    "spam = 0\n",
    "if spam == 10:\n",
    "    print('eggs')\n",
    "    if spam > 5:\n",
    "       print('bacon')\n",
    "    else:\n",
    "       print('ham')\n",
    "    print('spam')\n",
    "print('spam')\n"
   ]
  },
  {
   "cell_type": "markdown",
   "metadata": {},
   "source": [
    "### block 1\n",
    "if spam > 5:\n",
    "       print('bacon')\n",
    "    else:\n",
    "       print('ham')\n",
    "### block2\n",
    "if spam == 10:\n",
    "    print('eggs')\n",
    "    if spam > 5:\n",
    "       print('bacon')\n",
    "    else:\n",
    "       print('ham')\n",
    "    print('spam')\n",
    "### block3\n",
    "\n",
    "if spam == 10:\n",
    "    print('eggs')\n",
    "    if spam > 5:\n",
    "       print('bacon')\n",
    "    else:\n",
    "       print('ham')\n",
    "    print('spam')\n",
    "print('spam')\n",
    "\n"
   ]
  },
  {
   "cell_type": "markdown",
   "metadata": {},
   "source": [
    "8. Write code that prints Hello if 1 is stored in spam, prints Howdy if 2 is stored in spam, and prints Greetings! if anything else is stored in spam."
   ]
  },
  {
   "cell_type": "code",
   "execution_count": 27,
   "metadata": {},
   "outputs": [
    {
     "name": "stdout",
     "output_type": "stream",
     "text": [
      "Greetings!\n"
     ]
    }
   ],
   "source": [
    "spam = 3\n",
    "def greetings(spam):\n",
    "    if spam == 1:\n",
    "       print('Hello')\n",
    "    elif spam == 2:\n",
    "       print('Howdy')\n",
    "    else:\n",
    "       print('Greetings!')\n",
    "\n",
    "greetings(spam)"
   ]
  },
  {
   "cell_type": "markdown",
   "metadata": {},
   "source": [
    "9.If your programme is stuck in an endless loop, what keys you’ll press?\n",
    "Answer: Ctrl+C\n"
   ]
  },
  {
   "cell_type": "markdown",
   "metadata": {},
   "source": [
    "10. How can you tell the difference between break and continue?\n",
    "\n",
    "Answer:Here is the e.g for continue and break statement.\n",
    "\n"
   ]
  },
  {
   "cell_type": "code",
   "execution_count": 5,
   "metadata": {},
   "outputs": [
    {
     "name": "stdout",
     "output_type": "stream",
     "text": [
      "P\n",
      "y\n",
      "t\n"
     ]
    }
   ],
   "source": [
    "a = 'Pythonista'\n",
    "for i in a:\n",
    "    if i == 'h':\n",
    "        break\n",
    "    print(i)"
   ]
  },
  {
   "cell_type": "code",
   "execution_count": 6,
   "metadata": {},
   "outputs": [
    {
     "name": "stdout",
     "output_type": "stream",
     "text": [
      "P\n",
      "y\n",
      "t\n",
      "o\n",
      "n\n",
      "i\n",
      "s\n",
      "t\n",
      "a\n"
     ]
    }
   ],
   "source": [
    "for i in a:\n",
    "    if i == 'h':\n",
    "        continue\n",
    "    print(i)"
   ]
  },
  {
   "cell_type": "markdown",
   "metadata": {},
   "source": [
    "As can be seen above examples if condition is met (i == h), for break statement current loop is stopped followed by programme exiting the block immediately. Whereas, in case of continue when condition is met only current loop is skipped but rest is continued and also block is not exited. "
   ]
  },
  {
   "cell_type": "markdown",
   "metadata": {},
   "source": [
    "11. In a for loop, what is the difference between range(10), range(0, 10), and range(0, 10, 1)?\n",
    "Answer:\n",
    "Range built-in function has three attributes to it in order of start, stop and step.\n",
    "start: start from, stop: end at by default end number is not inclusive and step = difference between contiguous numbers.\n",
    "In this scenario all these ranges are same. As if start in not given (first case) then it is 0 by default, if step is not given(first and second) it is 1 as in case of third case. Threfore all of them gives the same output.\n"
   ]
  },
  {
   "cell_type": "markdown",
   "metadata": {},
   "source": [
    "12. Write a short program that prints the numbers 1 to 10 using a for loop. Then write an equivalent program that prints the numbers 1 to 10 using a while loop\n"
   ]
  },
  {
   "cell_type": "code",
   "execution_count": 13,
   "metadata": {},
   "outputs": [
    {
     "name": "stdout",
     "output_type": "stream",
     "text": [
      "1\n",
      "2\n",
      "3\n",
      "4\n",
      "5\n",
      "6\n",
      "7\n",
      "8\n",
      "9\n"
     ]
    }
   ],
   "source": [
    "# For loop program\n",
    "for i in range(1,10):\n",
    "    print(i)"
   ]
  },
  {
   "cell_type": "code",
   "execution_count": 14,
   "metadata": {},
   "outputs": [
    {
     "name": "stdout",
     "output_type": "stream",
     "text": [
      "1\n",
      "2\n",
      "3\n",
      "4\n",
      "5\n",
      "6\n",
      "7\n",
      "8\n",
      "9\n"
     ]
    }
   ],
   "source": [
    "i = 1\n",
    "while i<10:\n",
    "    print(i)\n",
    "    i = i+1"
   ]
  },
  {
   "cell_type": "markdown",
   "metadata": {},
   "source": [
    "13. If you had a function named bacon() inside a module named spam, how would you call it after importing spam?\n",
    "Answer:\n",
    "spam.bacon()\n"
   ]
  }
 ],
 "metadata": {
  "kernelspec": {
   "display_name": "Python 3",
   "language": "python",
   "name": "python3"
  },
  "language_info": {
   "codemirror_mode": {
    "name": "ipython",
    "version": 3
   },
   "file_extension": ".py",
   "mimetype": "text/x-python",
   "name": "python",
   "nbconvert_exporter": "python",
   "pygments_lexer": "ipython3",
   "version": "3.7.4"
  }
 },
 "nbformat": 4,
 "nbformat_minor": 2
}
