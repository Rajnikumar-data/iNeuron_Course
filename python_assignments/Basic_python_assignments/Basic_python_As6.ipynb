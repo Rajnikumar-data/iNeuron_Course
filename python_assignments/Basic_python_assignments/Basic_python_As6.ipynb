{
 "cells": [
  {
   "cell_type": "markdown",
   "metadata": {},
   "source": [
    "1. What are escape characters, and how do you use them?\n",
    "Answer: Escape characters are the characters used to do illegal operation in the string. Escape character is backslash'\\' followed by character you want to insert. for example"
   ]
  },
  {
   "cell_type": "code",
   "execution_count": 3,
   "metadata": {},
   "outputs": [
    {
     "ename": "SyntaxError",
     "evalue": "invalid syntax (<ipython-input-3-d3a3fe62d801>, line 1)",
     "output_type": "error",
     "traceback": [
      "\u001b[0;36m  File \u001b[0;32m\"<ipython-input-3-d3a3fe62d801>\"\u001b[0;36m, line \u001b[0;32m1\u001b[0m\n\u001b[0;31m    a ='this isn't a great book.'\u001b[0m\n\u001b[0m                 ^\u001b[0m\n\u001b[0;31mSyntaxError\u001b[0m\u001b[0;31m:\u001b[0m invalid syntax\n"
     ]
    }
   ],
   "source": [
    "a ='this isn't a great book.' \n",
    "# this generated syntax error as single quote has been used within the string"
   ]
  },
  {
   "cell_type": "code",
   "execution_count": 5,
   "metadata": {},
   "outputs": [
    {
     "data": {
      "text/plain": [
       "\"this isn't a great book.\""
      ]
     },
     "execution_count": 5,
     "metadata": {},
     "output_type": "execute_result"
    }
   ],
   "source": [
    "# using escape charater \" \\' \" prevented that problem\n",
    "a ='this isn\\'t a great book.'\n",
    "a"
   ]
  },
  {
   "cell_type": "markdown",
   "metadata": {},
   "source": [
    "Some of other escape characters are \\\", \\n, \\t, \\\\, \\r etc."
   ]
  },
  {
   "cell_type": "markdown",
   "metadata": {},
   "source": [
    "2. What do the escape characters n and t stand for?\n",
    "Answer: \\n : Newline, \\t: tab"
   ]
  },
  {
   "cell_type": "code",
   "execution_count": 60,
   "metadata": {},
   "outputs": [
    {
     "name": "stdout",
     "output_type": "stream",
     "text": [
      "Backslash n use:\n",
      "Twinkle twinkle little star\n",
      "How I wonder what you are \n",
      "\n",
      "\n",
      "Backslash t use:\n",
      "Twinkle twinkle little star\tHow I wonder what you are \n"
     ]
    }
   ],
   "source": [
    "#example\n",
    "print(\"Backslash n use:\")\n",
    "a = \"Twinkle twinkle little star\\nHow I wonder what you are \"\n",
    "print(a)\n",
    "print('\\n')\n",
    "print(\"Backslash t use:\")\n",
    "b = \"Twinkle twinkle little star\\tHow I wonder what you are \"\n",
    "print(b)\n"
   ]
  },
  {
   "cell_type": "markdown",
   "metadata": {},
   "source": [
    "3. What is the way to include backslash characters in a string?\n",
    "Answer: by using escape \\ i.e '\\\\'"
   ]
  },
  {
   "cell_type": "code",
   "execution_count": 16,
   "metadata": {},
   "outputs": [
    {
     "name": "stdout",
     "output_type": "stream",
     "text": [
      "Twinkle twinkle little star \\ How I wonder what you are \n"
     ]
    }
   ],
   "source": [
    "#example\n",
    "a = a = \"Twinkle twinkle little star \\\\ How I wonder what you are \"\n",
    "print(a)"
   ]
  },
  {
   "cell_type": "markdown",
   "metadata": {},
   "source": [
    "4. The string \"Howl's Moving Castle\" is a correct value. Why isn't the single quote character in the word Howl's not escaped a problem?\n",
    "Answer: Because string in denoted by Double quotes (\"\") and single quote(') is used within the string. "
   ]
  },
  {
   "cell_type": "markdown",
   "metadata": {},
   "source": [
    "5. How do you write a string of newlines if you don't want to use the n character?"
   ]
  },
  {
   "cell_type": "code",
   "execution_count": 61,
   "metadata": {},
   "outputs": [
    {
     "name": "stdout",
     "output_type": "stream",
     "text": [
      "This is beautiful evening.\n",
      "The concoction of black and white clouds are trying to hide the yellowish-orange sun.\n",
      "Just then one shiny rays settle into my patio where small yet to flourish plant was waiting to come out.\n",
      "Solution to the problem using end parameter as space instead of default newline\n",
      "\n",
      "\n",
      "This is beautiful evening. The concoction of black and white clouds are trying to hide the yellowish-orange sun. Just then one shiny rays settle into my patio where small yet to flourish plant was waiting to come out. "
     ]
    }
   ],
   "source": [
    "# Problem\n",
    "print('This is beautiful evening.')\n",
    "print('The concoction of black and white clouds are trying to hide the yellowish-orange sun.')\n",
    "print('Just then one shiny rays settle into my patio where small yet to flourish plant was waiting to come out.')\n",
    "\n",
    "print (\"Solution to the problem using end parameter as space instead of default newline\")\n",
    "# Solution\n",
    "print('\\n')\n",
    "print('This is beautiful evening.', end =\" \")\n",
    "print('The concoction of black and white clouds are trying to hide the yellowish-orange sun.', end =\" \")\n",
    "print('Just then one shiny rays settle into my patio where small yet to flourish plant was waiting to come out.', end =\" \")\n",
    "\n"
   ]
  },
  {
   "cell_type": "code",
   "execution_count": 22,
   "metadata": {},
   "outputs": [
    {
     "name": "stdout",
     "output_type": "stream",
     "text": [
      "e\n",
      "Hello\n",
      "Hello\n",
      "lo, world!\n"
     ]
    }
   ],
   "source": [
    "#6. What are the values of the given expressions?\n",
    "# Answers\n",
    "print ('Hello, world!'[1])   # index1\n",
    "print ('Hello, world!'[0:5]) # slice\n",
    "print('Hello, world!'[:5]) # slice 0 to 5\n",
    "print('Hello, world!'[3:]) # slice 3 to rest of the elements\n"
   ]
  },
  {
   "cell_type": "code",
   "execution_count": 24,
   "metadata": {},
   "outputs": [
    {
     "name": "stdout",
     "output_type": "stream",
     "text": [
      "HELLO\n",
      "True\n",
      "hello\n"
     ]
    }
   ],
   "source": [
    "# 7. What are the values of the following expressions?\n",
    "print('Hello'.upper()) # change to upper case\n",
    "print('Hello'.upper().isupper()) # Check whether its uppercase or not\n",
    "print('Hello'.upper().lower()) # Convert back to lower\n"
   ]
  },
  {
   "cell_type": "code",
   "execution_count": 25,
   "metadata": {},
   "outputs": [
    {
     "name": "stdout",
     "output_type": "stream",
     "text": [
      "['Remember,', 'remember,', 'the', 'fifth', 'of', 'July.']\n",
      "There-can-only-one.\n"
     ]
    }
   ],
   "source": [
    "# 8. What are the values of the following expressions?\n",
    "print ('Remember, remember, the fifth of July.'.split()) # Split elements with delimiter space\n",
    "print('-'.join('There can only one.'.split())) # Join the element with '-' which have been split with delimiter space\n"
   ]
  },
  {
   "cell_type": "markdown",
   "metadata": {},
   "source": [
    "9. What are the methods for right-justifying, left-justifying, and centering a string?\n"
   ]
  },
  {
   "cell_type": "code",
   "execution_count": 55,
   "metadata": {},
   "outputs": [
    {
     "name": "stdout",
     "output_type": "stream",
     "text": [
      "right justified example::\n",
      "x                                          This is the problem related to position of string elements.\n",
      " left justified example::\n",
      "x This is the problem related to position of string elements.                                         \n",
      "centre justified example::\n",
      "x                     This is the problem related to position of string elements.                     \n"
     ]
    }
   ],
   "source": [
    "str1 = 'This is the problem related to position of string elements.'\n",
    "print(\"right justified example::\")\n",
    "print(\"x\",str1.rjust(100))\n",
    "print(\" left justified example::\")\n",
    "print(\"x\",str1.ljust(100))\n",
    "print(\"centre justified example::\")\n",
    "print(\"x\",str1.center(100))"
   ]
  },
  {
   "cell_type": "code",
   "execution_count": 63,
   "metadata": {},
   "outputs": [
    {
     "name": "stdout",
     "output_type": "stream",
     "text": [
      "With white space:       This is whitespace remove problem.   \n",
      "white space renoved: This is whitespace remove problem.\n"
     ]
    }
   ],
   "source": [
    "# 10. What is the best way to remove whitespace characters from the start or end?\n",
    "a = '      This is whitespace remove problem.   '\n",
    "print(\"With white space:\", a)\n",
    "\n",
    "print(\"white space renoved:\",a.strip())"
   ]
  },
  {
   "cell_type": "code",
   "execution_count": null,
   "metadata": {},
   "outputs": [],
   "source": []
  }
 ],
 "metadata": {
  "kernelspec": {
   "display_name": "Python 3",
   "language": "python",
   "name": "python3"
  },
  "language_info": {
   "codemirror_mode": {
    "name": "ipython",
    "version": 3
   },
   "file_extension": ".py",
   "mimetype": "text/x-python",
   "name": "python",
   "nbconvert_exporter": "python",
   "pygments_lexer": "ipython3",
   "version": "3.7.4"
  }
 },
 "nbformat": 4,
 "nbformat_minor": 2
}
