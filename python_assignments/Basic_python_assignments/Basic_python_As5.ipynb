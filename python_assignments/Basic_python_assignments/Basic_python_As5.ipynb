{
 "cells": [
  {
   "cell_type": "markdown",
   "metadata": {},
   "source": [
    "1. What does an empty dictionary's code look like?\n",
    "Answer below"
   ]
  },
  {
   "cell_type": "code",
   "execution_count": 1,
   "metadata": {},
   "outputs": [
    {
     "name": "stdout",
     "output_type": "stream",
     "text": [
      "{}\n"
     ]
    }
   ],
   "source": [
    "empty_dict= {}\n",
    "print(empty_dict)"
   ]
  },
  {
   "cell_type": "markdown",
   "metadata": {},
   "source": [
    "2. What is the value of a dictionary value with the key 'foo' and the value 42?\n",
    "Answer: 42"
   ]
  },
  {
   "cell_type": "code",
   "execution_count": 3,
   "metadata": {},
   "outputs": [
    {
     "data": {
      "text/plain": [
       "dict_values([42])"
      ]
     },
     "execution_count": 3,
     "metadata": {},
     "output_type": "execute_result"
    }
   ],
   "source": [
    "d = {'foo': 42}\n",
    "d.values()"
   ]
  },
  {
   "cell_type": "markdown",
   "metadata": {},
   "source": [
    "3. What is the most significant distinction between a dictionary and a list?\n",
    "Answer:Lists are the ordered sequence of elements whereas dictionary is unordered sequence of elements. Both list and dictionary are mutable sequences but to access the value list uses indexes wheras dictionary is key:value pair and values can be accessed by key as indexes."
   ]
  },
  {
   "cell_type": "markdown",
   "metadata": {},
   "source": [
    "4. What happens if you try to access spam['foo'] if spam is {'bar': 100}?\n",
    "Answer: 'foo' is not the key in spam so keyError will occur"
   ]
  },
  {
   "cell_type": "markdown",
   "metadata": {},
   "source": [
    "5. If a dictionary is stored in spam, what is the difference between the expressions 'cat' in spam and 'cat' in spam.keys()?\n",
    "Answer: In dictionary, 'cat' in spam and 'cat' in spam.keys() is same as 'in' expression in both cases will check keys of spam dictionary."
   ]
  },
  {
   "cell_type": "markdown",
   "metadata": {},
   "source": [
    "6. If a dictionary is stored in spam, what is the difference between the expressions 'cat' in spam and 'cat' in spam.values()?\n",
    "Answer: In dictionary, 'cat' in spam and 'cat' in spam.values() is different as cat in spam will check the keys whereas 'cat' in spam.values() expression will check values of spam dictionary."
   ]
  },
  {
   "cell_type": "markdown",
   "metadata": {},
   "source": [
    "7. What is a shortcut for the following code?\n",
    "if 'color' not in spam:\n",
    "spam['color'] = 'black'\n"
   ]
  },
  {
   "cell_type": "code",
   "execution_count": 18,
   "metadata": {
    "scrolled": true
   },
   "outputs": [
    {
     "name": "stdout",
     "output_type": "stream",
     "text": [
      "original code outcome: {'age': 32, 'profession': 'teacher', 'color': 'black'}\n",
      "Shortcut code outcome: {'age': 32, 'job': 'teacher', 'color': 'black'}\n"
     ]
    }
   ],
   "source": [
    "# original code\n",
    "spam = {'age': 32, 'profession': 'teacher'}\n",
    "if 'color' not in spam:\n",
    "    spam['color'] = 'black'\n",
    "print('original code outcome:', spam)\n",
    "\n",
    "# shortcut\n",
    "spam = {'age': 32, 'job': 'teacher'}\n",
    "spam.setdefault('color', 'black')\n",
    "print('Shortcut code outcome:', spam)"
   ]
  },
  {
   "cell_type": "markdown",
   "metadata": {},
   "source": [
    "8. How do you \"pretty print\" dictionary values using which module and function?\n",
    "Module: pprint, function: PrettyPrinter"
   ]
  },
  {
   "cell_type": "code",
   "execution_count": 26,
   "metadata": {},
   "outputs": [
    {
     "name": "stdout",
     "output_type": "stream",
     "text": [
      "{   'cat': 32,\n",
      "    'deer': 43,\n",
      "    'dog': 45,\n",
      "    'rabbit': 34}\n"
     ]
    }
   ],
   "source": [
    "import pprint # Module\n",
    "d = {'cat': 32, 'dog': 45, 'rabbit': 34, 'deer': 43} # dictionary\n",
    "pp = pprint.PrettyPrinter(indent = 4, width = 40) # instance created\n",
    "pp.pprint(d) # final print"
   ]
  },
  {
   "cell_type": "code",
   "execution_count": null,
   "metadata": {},
   "outputs": [],
   "source": []
  }
 ],
 "metadata": {
  "kernelspec": {
   "display_name": "Python 3",
   "language": "python",
   "name": "python3"
  },
  "language_info": {
   "codemirror_mode": {
    "name": "ipython",
    "version": 3
   },
   "file_extension": ".py",
   "mimetype": "text/x-python",
   "name": "python",
   "nbconvert_exporter": "python",
   "pygments_lexer": "ipython3",
   "version": "3.7.4"
  }
 },
 "nbformat": 4,
 "nbformat_minor": 2
}
