{
 "cells": [
  {
   "cell_type": "markdown",
   "metadata": {},
   "source": [
    "1. In the below elements which of them are values or an expression? eg:- values can be integer or string and expressions will be mathematical operators.\n",
    "\n",
    "Answer\n",
    "\n",
    "*    : Expression\n",
    "'hello' : Value\n",
    "-87.8: Value\n",
    "- : Expression\n",
    "/  : Expression\n",
    "+ : Expression\n",
    "6  : value\n"
   ]
  },
  {
   "cell_type": "markdown",
   "metadata": {},
   "source": [
    "2. What is the difference between string and variable?\n",
    "\n",
    "Answer: \n",
    "1) Variable is a container that store information in the RAM (Random access memory) that can be processed as per requirement.It can store integer, float, strings, list, files or any other data type where as string is the datatype which can be alphanumeric or character. variables do not live after programme is stopped. Sometimes variables also work as placeholders. \n",
    "2) String is the data type that contains characters or alphanumeric values. In python, String has to be enclosed by single (‘ ‘)or double quotes (“ “).\n"
   ]
  },
  {
   "cell_type": "markdown",
   "metadata": {},
   "source": [
    "3. Describe three different data types.\n",
    "\n",
    "Answer:\n",
    "There are 7 data types in python namely text, numeric, sequence type, mapping, set, boolean and binary data type.\n",
    "Text:  data type include strings. It has character or alphanumeric. Any input from the user is considered as string type in python. Only few arithmetic operations can be performed on them. These are immutable.\n",
    "Numeric: it contains integers, floats and complex numbers. Arithmetic operations are performed on these data types. \n",
    "Sequence type: It includes list and tuple. These are ordered iterable data types and used to store many elements within a same variable to prevent same variable assignment to multiple elements having same features. Although list are mutable whereas tuples are immutable here. Threfore list is used or performing operation whereas main use of tuples is to store information.\n"
   ]
  },
  {
   "cell_type": "markdown",
   "metadata": {},
   "source": [
    "5. This assignment statements, like spam = 10. What is the difference between an expression and a statement?\n",
    "\n",
    "I do not get this question, please explain."
   ]
  },
  {
   "cell_type": "markdown",
   "metadata": {},
   "source": [
    "6. After running the following code, what does the variable bacon contain?\n",
    "Answer:\n",
    "bacon = 22\n",
    "bacon + 1\n",
    "The output is 23\n",
    "Whereas variable bacon contains 22\n"
   ]
  },
  {
   "cell_type": "code",
   "execution_count": 1,
   "metadata": {},
   "outputs": [
    {
     "data": {
      "text/plain": [
       "23"
      ]
     },
     "execution_count": 1,
     "metadata": {},
     "output_type": "execute_result"
    }
   ],
   "source": [
    "bacon = 22\n",
    "bacon +1"
   ]
  },
  {
   "cell_type": "markdown",
   "metadata": {},
   "source": [
    "7. What should the values of the following two terms be?\n",
    "Answer:\n",
    "'spam' + 'spamspam' : ‘spamspamspam’\n",
    "'spam' * 3 :  ‘spamspamspam’\n"
   ]
  },
  {
   "cell_type": "markdown",
   "metadata": {},
   "source": [
    "8. Why is eggs a valid variable name while 100 is invalid?\n",
    "Answer:\n",
    "Variable name in python has some rules: 1) it can not start with numerical 2) No space between variable name.\n",
    "As 100 starts with 1 that is why its not a valid variable name.\n"
   ]
  },
  {
   "cell_type": "markdown",
   "metadata": {},
   "source": [
    "9. What three functions can be used to get the integer, floating-point number, or string version of a value?\n",
    "Answer: \n",
    "Int(variable), float(variable), str(variable)\n"
   ]
  },
  {
   "cell_type": "markdown",
   "metadata": {},
   "source": [
    "10. Why does this expression cause an error? How can you fix it?\n",
    "'I have eaten ' + 99 + ' burritos.'\n",
    "Answer:\n",
    "String and numerical values can not be added therefore this expression raises error.\n",
    "Converting 99 to ‘99’ by using str(99) can fix this issue\n",
    "Output will be : ‘I have eaten 99 burritos.’\n",
    "\n"
   ]
  }
 ],
 "metadata": {
  "kernelspec": {
   "display_name": "Python 3",
   "language": "python",
   "name": "python3"
  },
  "language_info": {
   "codemirror_mode": {
    "name": "ipython",
    "version": 3
   },
   "file_extension": ".py",
   "mimetype": "text/x-python",
   "name": "python",
   "nbconvert_exporter": "python",
   "pygments_lexer": "ipython3",
   "version": "3.7.4"
  }
 },
 "nbformat": 4,
 "nbformat_minor": 2
}
