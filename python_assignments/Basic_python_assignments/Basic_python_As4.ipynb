{
 "cells": [
  {
   "cell_type": "markdown",
   "metadata": {},
   "source": [
    "1. What exactly is []?\n",
    "This is Empty list"
   ]
  },
  {
   "cell_type": "markdown",
   "metadata": {},
   "source": [
    "2. In a list of values stored in a variable called spam, how would you assign the value 'hello' as the third value? (Assume [2, 4, 6, 8, 10] are in spam.)"
   ]
  },
  {
   "cell_type": "code",
   "execution_count": 1,
   "metadata": {},
   "outputs": [
    {
     "name": "stdout",
     "output_type": "stream",
     "text": [
      "[2, 4, 'hello', 8, 10]\n"
     ]
    }
   ],
   "source": [
    "spam = [2,4,6,8,10]\n",
    "spam[2] = 'hello'\n",
    "print(spam)"
   ]
  },
  {
   "cell_type": "markdown",
   "metadata": {},
   "source": [
    "3. What is the value of spam[int(int('3' * 2) / 11)]? \n",
    "Answer: 8"
   ]
  },
  {
   "cell_type": "markdown",
   "metadata": {},
   "source": [
    "4. What is the value of spam[-1]?"
   ]
  },
  {
   "cell_type": "code",
   "execution_count": 2,
   "metadata": {},
   "outputs": [
    {
     "data": {
      "text/plain": [
       "'d'"
      ]
     },
     "execution_count": 2,
     "metadata": {},
     "output_type": "execute_result"
    }
   ],
   "source": [
    "spam = ['a','b','c','d']\n",
    "spam[-1]"
   ]
  },
  {
   "cell_type": "markdown",
   "metadata": {},
   "source": [
    "5. What is the value of spam[:2]?"
   ]
  },
  {
   "cell_type": "code",
   "execution_count": 3,
   "metadata": {},
   "outputs": [
    {
     "data": {
      "text/plain": [
       "['a', 'b']"
      ]
     },
     "execution_count": 3,
     "metadata": {},
     "output_type": "execute_result"
    }
   ],
   "source": [
    "spam = ['a','b','c','d']\n",
    "spam[:2]"
   ]
  },
  {
   "cell_type": "markdown",
   "metadata": {},
   "source": [
    "6. What is the value of bacon.index('cat')?"
   ]
  },
  {
   "cell_type": "code",
   "execution_count": 4,
   "metadata": {},
   "outputs": [
    {
     "data": {
      "text/plain": [
       "1"
      ]
     },
     "execution_count": 4,
     "metadata": {},
     "output_type": "execute_result"
    }
   ],
   "source": [
    "bacon = [3.14, 'cat', 11, 'cat', True]\n",
    "bacon.index('cat')"
   ]
  },
  {
   "cell_type": "markdown",
   "metadata": {},
   "source": [
    "7. How does bacon.append(99) change the look of the list value in bacon?\n",
    "Aswer: append means adding element in the end of the list. As can be seen length of the list increased by 1."
   ]
  },
  {
   "cell_type": "code",
   "execution_count": 5,
   "metadata": {},
   "outputs": [
    {
     "name": "stdout",
     "output_type": "stream",
     "text": [
      "Length of the original list is:  5\n",
      "[3.14, 'cat', 11, 'cat', True, 99]\n",
      "Length of the new list is:  6\n"
     ]
    }
   ],
   "source": [
    "bacon = [3.14, 'cat', 11, 'cat', True]\n",
    "print('Length of the original list is: ',len(bacon))\n",
    "bacon.append(99)\n",
    "print(bacon)\n",
    "print('Length of the new list is: ',len(bacon))"
   ]
  },
  {
   "cell_type": "markdown",
   "metadata": {},
   "source": [
    "8. How does bacon.remove('cat') change the look of the list in bacon?\n",
    "Answer: remove the first occurence of the given value and change the index of elements after that by -1."
   ]
  },
  {
   "cell_type": "code",
   "execution_count": 6,
   "metadata": {},
   "outputs": [
    {
     "name": "stdout",
     "output_type": "stream",
     "text": [
      "Length of the original list is 5\n",
      "index of elements after cat: 2 and 4\n",
      "[3.14, 11, 'cat', True]\n",
      "index of elements after cat: 1 and 3\n"
     ]
    }
   ],
   "source": [
    "bacon = [3.14, 'cat', 11, 'cat', True]\n",
    "print('Length of the original list is',(len(bacon)))\n",
    "print('index of elements after cat:', bacon.index(11), 'and' , bacon.index(True) )\n",
    "      \n",
    "bacon.remove('cat')\n",
    "print(bacon)\n",
    "print('index of elements after cat:', bacon.index(11), 'and' , bacon.index(True) )\n"
   ]
  },
  {
   "cell_type": "markdown",
   "metadata": {},
   "source": [
    "9. What are the list concatenation and list replication operators?\n",
    "Answer: List concatenation operator '+' is used to make list of all the elements of two different lists and list replication operator (*) repeats the elements of the list.\n"
   ]
  },
  {
   "cell_type": "code",
   "execution_count": 7,
   "metadata": {},
   "outputs": [
    {
     "name": "stdout",
     "output_type": "stream",
     "text": [
      "list concatenation: [2, 3, 4, 9, 4, 5, 6, 7]\n",
      "list replication:  [2, 3, 4, 9, 2, 3, 4, 9, 2, 3, 4, 9]\n"
     ]
    }
   ],
   "source": [
    "l1 = [2,3,4,9]\n",
    "l2 = [4,5,6,7]\n",
    "print(\"list concatenation:\", (l1+l2))\n",
    "print('list replication: ', l1*3)"
   ]
  },
  {
   "cell_type": "markdown",
   "metadata": {},
   "source": [
    "10. What is difference between the list methods append() and insert()?\n",
    "Answer: Append operation add new element in the end of the list and insert is used to add element at the speciied position."
   ]
  },
  {
   "cell_type": "code",
   "execution_count": 8,
   "metadata": {},
   "outputs": [
    {
     "name": "stdout",
     "output_type": "stream",
     "text": [
      "new list after append: [2, 3, 4, 5, 'python']\n",
      "index of python element is: 4\n"
     ]
    }
   ],
   "source": [
    "l1 = [2,3,4,5]\n",
    "l1.append('python') # new element at the last position\n",
    "print('new list after append:', l1)\n",
    "print('index of python element is:', l1.index('python'))"
   ]
  },
  {
   "cell_type": "code",
   "execution_count": 9,
   "metadata": {},
   "outputs": [
    {
     "name": "stdout",
     "output_type": "stream",
     "text": [
      "new list after append: [2, 3, 'python', 4, 5]\n",
      "index of python element is: 2\n"
     ]
    }
   ],
   "source": [
    "l1 = [2,3,4,5]\n",
    "l1.insert(2,'python') #  new element at specified position\n",
    "print('new list after append:', l1)\n",
    "print('index of python element is:', l1.index('python'))"
   ]
  },
  {
   "cell_type": "markdown",
   "metadata": {},
   "source": [
    "11. What are the two methods for removing items from a list?"
   ]
  },
  {
   "cell_type": "code",
   "execution_count": 10,
   "metadata": {},
   "outputs": [
    {
     "name": "stdout",
     "output_type": "stream",
     "text": [
      "Using pop method: [3, 4, 6, 9]\n",
      "Using remove method: [4, 6, 7, 8, 9]\n",
      "Using del method: [4, 5, 6, 8, 9]\n"
     ]
    }
   ],
   "source": [
    "\n",
    "# Using pop\n",
    "l1 = [3,4,5,6,9]\n",
    "l1.pop(2) # remove element using index, if index not mentioned last element is removed\n",
    "print('Using pop method:',l1)\n",
    "# Using remove \n",
    "l2 = [4, 5,6,7,8,9]\n",
    "l2.remove(5) # remove element using value\n",
    "print('Using remove method:', l2)\n",
    "# Using del\n",
    "l3 = [4,5,6,7,8,9]\n",
    "del l3[3] # using index                                 \n",
    "print('Using del method:', l3)\n"
   ]
  },
  {
   "cell_type": "markdown",
   "metadata": {},
   "source": [
    "12. Describe how list values and string values are identical.\n",
    "Answer: Both list and string are ordered collection data types therefore elements can be accessed by index numbers in both cases.\n"
   ]
  },
  {
   "cell_type": "markdown",
   "metadata": {},
   "source": [
    "13. What's the difference between tuples and lists?\n",
    "Answer: Tuples are immutable datatypes and list are mutable dattypes that means once created elements cannot be replaced rather new tuple can be created if any modification is done in case of tuples whereas list in python is a dynamic datatypes and can be modified as per reqirement.\n"
   ]
  },
  {
   "cell_type": "markdown",
   "metadata": {},
   "source": [
    "14. How do you type a tuple value that only contains the integer 42?"
   ]
  },
  {
   "cell_type": "code",
   "execution_count": 11,
   "metadata": {},
   "outputs": [
    {
     "data": {
      "text/plain": [
       "tuple"
      ]
     },
     "execution_count": 11,
     "metadata": {},
     "output_type": "execute_result"
    }
   ],
   "source": [
    "a = (42,)\n",
    "type(a)"
   ]
  },
  {
   "cell_type": "markdown",
   "metadata": {},
   "source": [
    "15. How do you get a list value's tuple form? How do you get a tuple value's list form?\n",
    "Answer: By type casting as shown below"
   ]
  },
  {
   "cell_type": "code",
   "execution_count": 12,
   "metadata": {},
   "outputs": [
    {
     "name": "stdout",
     "output_type": "stream",
     "text": [
      "list form:  [2, 3, 4]\n",
      "list to tuple:  (2, 3, 4)\n"
     ]
    }
   ],
   "source": [
    "lst = [2,3,4]\n",
    "print('list form: ',lst)\n",
    "print('list to tuple: ', tuple(lst))"
   ]
  },
  {
   "cell_type": "code",
   "execution_count": 13,
   "metadata": {},
   "outputs": [
    {
     "name": "stdout",
     "output_type": "stream",
     "text": [
      "tuple form:  [2, 3, 4]\n",
      "tuple to list:  [5, 6, 9]\n"
     ]
    }
   ],
   "source": [
    "tup = (5,6,9)\n",
    "print('tuple form: ',lst)\n",
    "print('tuple to list: ', list(tup))"
   ]
  },
  {
   "cell_type": "markdown",
   "metadata": {},
   "source": [
    "16. Variables that \"contain\" list values are not necessarily lists themselves. Instead, what do they contain?\n",
    "Answer: Variable containing the list values is the reference value for that particulat data. Reference values enables the programme to access that particular data in the computer storage memory or any other storage device."
   ]
  },
  {
   "cell_type": "markdown",
   "metadata": {},
   "source": [
    "17. How do you distinguish between copy.copy() and copy.deepcopy()?\n"
   ]
  },
  {
   "cell_type": "code",
   "execution_count": 17,
   "metadata": {},
   "outputs": [
    {
     "name": "stdout",
     "output_type": "stream",
     "text": [
      "id of a is: 4568159088\n",
      "id of d after assignment: 4568159088\n",
      "True\n",
      "id of b after copy.copy() is: 4568159648\n",
      "False\n",
      "True\n",
      "['raj', 'python', 'data']\n"
     ]
    }
   ],
   "source": [
    "import copy\n",
    "a = ['raj', 'python', 'data']\n",
    "b = copy.copy(a)\n",
    "d = a\n",
    "a.append(4)\n",
    "print('id of a is:', id(a))\n",
    "print('id of d after assignment:', id(d))\n",
    "print(id(a)== id(d))\n",
    "print('id of b after copy.copy() is:',id(b))\n",
    "print(id(a)== id(b))\n",
    "print(id(a[0])== id(b[0]))\n",
    "\n",
    "print(b)"
   ]
  },
  {
   "cell_type": "code",
   "execution_count": 16,
   "metadata": {},
   "outputs": [
    {
     "name": "stdout",
     "output_type": "stream",
     "text": [
      "id of c after copy.deepcopy() is: 4568176832\n",
      "False\n",
      "True\n"
     ]
    },
    {
     "data": {
      "text/plain": [
       "['raj', 'python', 'data']"
      ]
     },
     "execution_count": 16,
     "metadata": {},
     "output_type": "execute_result"
    }
   ],
   "source": [
    "a = ['raj', 'python', 'data']\n",
    "c = copy.deepcopy(a)\n",
    "d = a\n",
    "a.append(5)\n",
    "print('id of c after copy.deepcopy() is:',id(c))\n",
    "print(id(a)== id(c))\n",
    "print(id(a[0])== id(c[0]))\n",
    "c"
   ]
  },
  {
   "cell_type": "code",
   "execution_count": null,
   "metadata": {},
   "outputs": [],
   "source": []
  }
 ],
 "metadata": {
  "kernelspec": {
   "display_name": "Python 3",
   "language": "python",
   "name": "python3"
  },
  "language_info": {
   "codemirror_mode": {
    "name": "ipython",
    "version": 3
   },
   "file_extension": ".py",
   "mimetype": "text/x-python",
   "name": "python",
   "nbconvert_exporter": "python",
   "pygments_lexer": "ipython3",
   "version": "3.7.4"
  }
 },
 "nbformat": 4,
 "nbformat_minor": 2
}
