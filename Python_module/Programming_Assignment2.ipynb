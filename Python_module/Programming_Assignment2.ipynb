{
 "cells": [
  {
   "cell_type": "markdown",
   "metadata": {},
   "source": [
    "# Programming_Assignment2"
   ]
  },
  {
   "cell_type": "markdown",
   "metadata": {},
   "source": [
    "1.\tWrite a Python program to convert kilometers to miles?\n",
    "2.\tWrite a Python program to convert Celsius to Fahrenheit?\n",
    "3.\tWrite a Python program to display calendar?\n",
    "4.\tWrite a Python program to solve quadratic equation?\n",
    "5.\tWrite a Python program to swap two variables without temp variable?\n"
   ]
  },
  {
   "cell_type": "code",
   "execution_count": 5,
   "metadata": {},
   "outputs": [
    {
     "name": "stdout",
     "output_type": "stream",
     "text": [
      "Miles: 3.107\n"
     ]
    }
   ],
   "source": [
    "# Write a Python program to convert kilometers to miles?\n",
    "# Using round function to round off the value to 3 decimal places\n",
    "\n",
    "def kms_to_miles(kms):\n",
    "    miles =  round(kms * 0.621371,3)\n",
    "    print(\"Miles:\", miles)\n",
    "    \n",
    "kms_to_miles(5)"
   ]
  },
  {
   "cell_type": "code",
   "execution_count": 4,
   "metadata": {},
   "outputs": [
    {
     "name": "stdout",
     "output_type": "stream",
     "text": [
      "Fahrenheit: 31.069\n"
     ]
    }
   ],
   "source": [
    "# Write a Python program to convert Celsius to Fahrenheit?\n",
    "# # Using round function to round off the value to 3 decimal places\n",
    "\n",
    "def degC_to_F(degC):\n",
    "    F =  round(degC * 0.621371,3)\n",
    "    print(\"Fahrenheit:\", F)\n",
    "    \n",
    "degC_to_F(50)\n"
   ]
  },
  {
   "cell_type": "code",
   "execution_count": 56,
   "metadata": {},
   "outputs": [
    {
     "name": "stdout",
     "output_type": "stream",
     "text": [
      "   November 2019\n",
      "Mo Tu We Th Fr Sa Su\n",
      "             1  2  3\n",
      " 4  5  6  7  8  9 10\n",
      "11 12 13 14 15 16 17\n",
      "18 19 20 21 22 23 24\n",
      "25 26 27 28 29 30\n",
      "\n"
     ]
    }
   ],
   "source": [
    "# Write a Python program to display calendar?\n",
    "# I feel this programme is not complete as I am unable to consider different input like all lower case or all caps\n",
    "\n",
    "import calendar\n",
    "\n",
    "months = [\"January\", \"February\", \"March\", \"April\", \"May\", \"June\", \"July\", \"August\", \"September\", \"October\", \"November\", \"December\"]\n",
    "\n",
    "def calendar_display(year, month):\n",
    "    \n",
    "    if type(month) == str:\n",
    "        month = (months.index(month)+1)\n",
    "    else:\n",
    "        month == month\n",
    "    x = calendar.month(year, month) \n",
    "    print (x)\n",
    "   \n",
    "\n",
    "calendar_display(2019, 11)"
   ]
  },
  {
   "cell_type": "code",
   "execution_count": 57,
   "metadata": {},
   "outputs": [],
   "source": [
    "# Write a Python program to solve quadratic equation?\n",
    "\n"
   ]
  },
  {
   "cell_type": "code",
   "execution_count": 58,
   "metadata": {},
   "outputs": [
    {
     "name": "stdout",
     "output_type": "stream",
     "text": [
      "x is: 9\n",
      "y is: 7\n"
     ]
    }
   ],
   "source": [
    "# Write a Python program to swap two variables without temp variable?\n",
    "# Write a Python program to swap two variables?\n",
    "\n",
    "def swap_numbers (x, y):\n",
    "    x, y = y, x\n",
    "    print (\"x is:\", x)\n",
    "    print (\"y is:\", y)\n",
    "swap_numbers (x = 7, y = 9)\n",
    "\n",
    "   "
   ]
  },
  {
   "cell_type": "code",
   "execution_count": null,
   "metadata": {},
   "outputs": [],
   "source": []
  }
 ],
 "metadata": {
  "kernelspec": {
   "display_name": "Python 3",
   "language": "python",
   "name": "python3"
  },
  "language_info": {
   "codemirror_mode": {
    "name": "ipython",
    "version": 3
   },
   "file_extension": ".py",
   "mimetype": "text/x-python",
   "name": "python",
   "nbconvert_exporter": "python",
   "pygments_lexer": "ipython3",
   "version": "3.7.4"
  }
 },
 "nbformat": 4,
 "nbformat_minor": 2
}
